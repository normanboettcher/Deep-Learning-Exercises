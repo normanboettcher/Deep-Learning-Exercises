{
 "cells": [
  {
   "cell_type": "markdown",
   "id": "29982d97-0039-40ad-aed7-155f1f44d2b5",
   "metadata": {},
   "source": [
    "### Exercise SGD from Deep Learning course at university\n",
    "\n",
    "<b>This notebook contains an exercise about stochastic gradient descent given from the university course 'Deep Learning' </b>\n",
    "\n",
    "<b> Given Dataset: </b>\n",
    "\n",
    "<table>\n",
    "    <tr>\n",
    "        <th>ID</th>\n",
    "        <th>Bias</th>\n",
    "        <th>x1</th>\n",
    "        <th>x2</th>\n",
    "        <th><b>y</b></th>\n",
    "    </tr>\n",
    "    <tr>\n",
    "        <td>#1</td>\n",
    "        <td>0.1</td>\n",
    "        <td>0.1</td>\n",
    "        <td>0.2</td>\n",
    "        <td><b>0.2</b></td>\n",
    "    </tr>\n",
    "    <tr>\n",
    "        <td>#2</td>\n",
    "        <td>0.1</td>\n",
    "        <td>0.2</td>\n",
    "        <td>0.4</td>\n",
    "        <td><b>0.4</b></td>\n",
    "    </tr>\n",
    "    <tr>\n",
    "        <td>#3</td>\n",
    "        <td>0.1</td>\n",
    "        <td>0.4</td>\n",
    "        <td>0.8</td>\n",
    "        <td><b>0.8</b></td>\n",
    "    </tr>\n",
    " </table>\n",
    " \n",
    " y_head is given by : <b>y_head = bias * beta_0 + x1* beta_1 + x2 * beta_2 </b>\n",
    "<br>\n",
    " And following loss: <b>loss(y, y_head) = (y - y_head)²</b>\n",
    "<br>\n",
    "Beta(t = 0) is given by <b>beta^0 = (0.5, 1.5, 0.5) and learn-rate alpha = 0.1</b>\n",
    "<br>\n",
    "\n",
    "#### Task: Perform one step of stochastic gradient descent. What is your new beta (t = 1) after one epoch? And how much your total loss improved? "
   ]
  },
  {
   "cell_type": "code",
   "execution_count": 38,
   "id": "965d6339-fd61-4571-97ea-348f852db714",
   "metadata": {},
   "outputs": [],
   "source": [
    "import numpy as np\n",
    "import matplotlib.pyplot as plt\n",
    "%matplotlib inline"
   ]
  },
  {
   "cell_type": "code",
   "execution_count": 39,
   "id": "07b730ca-edfc-48be-ba54-0863a74dcdb6",
   "metadata": {},
   "outputs": [],
   "source": [
    "X = np.array([[0.1, 0.1, 0.2],\n",
    "             [0.1, 0.2, 0.4],\n",
    "             [0.1, 0.4, 0.8]])\n",
    "\n",
    "y = np.array([[0.2], \n",
    "             [0.4], \n",
    "             [0.8]])\n",
    "\n",
    "beta_0 = np.array([[0.5, 1.5, 0.5]])\n",
    "alpha = 0.1"
   ]
  },
  {
   "cell_type": "code",
   "execution_count": 67,
   "id": "806d82d2-2b45-4744-9f31-47ee7b0f13f3",
   "metadata": {},
   "outputs": [],
   "source": [
    "def y_head(x, beta):\n",
    "    return np.dot(x, np.transpose(beta))\n",
    "\n",
    "def loss(y, y_head):\n",
    "    return (y - y_head)**2\n",
    "\n",
    "def der_loss_y_head(y, y_head):\n",
    "    return -2*(y - y_head)\n",
    "\n",
    "def der_y_head_beta(x):\n",
    "    return x\n",
    "\n",
    "#the stochastic gradient descent algorithm in this case\n",
    "def sgd(x, y, alpha, beta_0, iterations):\n",
    "    beta = beta_0\n",
    "    \n",
    "    #first compute the predicted y_heads with initialized beta_0 at t = 0\n",
    "    y_head = np.dot(x, beta.T)\n",
    "    \n",
    "    #second we compute the loss before sgd is applied to the dataset\n",
    "    loss = (y - y_head)**2\n",
    "    \n",
    "    #third we run the sgd with i- many iterations\n",
    "    for i in range(iterations):\n",
    "\n",
    "        #choosed dataset n quals i in this case. | On the other hand we would define n as a random integer between the size of our dataset\n",
    "        n = i\n",
    "        x_n = x[n,:]\n",
    "        y_n = y[n]\n",
    "        y_head_n = y_head[n]\n",
    "        \n",
    "        gradient = der_loss_y_head(y_n, y_head_n) * der_y_head_beta(x_n)\n",
    "        \n",
    "        update_beta = beta - alpha * gradient\n",
    "        \n",
    "        beta = update_beta\n",
    "    \n",
    "    return beta"
   ]
  },
  {
   "cell_type": "markdown",
   "id": "a24a134b-1b2d-4a38-9147-15e36cbcac7d",
   "metadata": {},
   "source": [
    "Now let's have a look at our beta(t = 1) after one epoch of sgd"
   ]
  },
  {
   "cell_type": "code",
   "execution_count": 68,
   "id": "c9481594-c36e-4e7b-b773-7cbe9caa5835",
   "metadata": {},
   "outputs": [],
   "source": [
    "beta_1 = sgd(X, y, alpha, beta_0, 3)"
   ]
  },
  {
   "cell_type": "code",
   "execution_count": 69,
   "id": "2a4fe2c3-11ad-466c-9f95-ed70274070ef",
   "metadata": {},
   "outputs": [
    {
     "data": {
      "text/plain": [
       "array([[0.49 , 1.472, 0.444]])"
      ]
     },
     "execution_count": 69,
     "metadata": {},
     "output_type": "execute_result"
    }
   ],
   "source": [
    "beta_1"
   ]
  },
  {
   "cell_type": "markdown",
   "id": "c8e412cb-9617-4a80-974c-be8d3c43fdfe",
   "metadata": {},
   "source": [
    "Now calculate the new loss with updated beta"
   ]
  },
  {
   "cell_type": "code",
   "execution_count": 70,
   "id": "63f7da12-449b-4310-8ab8-161da987079d",
   "metadata": {},
   "outputs": [
    {
     "name": "stdout",
     "output_type": "stream",
     "text": [
      "New y_head after epoch 1 of sgd : [[0.285]\n",
      " [0.521]\n",
      " [0.993]] and new loss: 0.059114999999999945\n"
     ]
    }
   ],
   "source": [
    "y_head_new = y_head(X, beta_1)\n",
    "loss_new = np.sum(loss(y, y_head_new))\n",
    "\n",
    "\n",
    "print(f\"New y_head after epoch 1 of sgd : {y_head_new} and new loss: {loss_new}\")"
   ]
  },
  {
   "cell_type": "code",
   "execution_count": 73,
   "id": "b0455136-afe4-439a-bad0-6dda46032df1",
   "metadata": {},
   "outputs": [],
   "source": [
    "y_head_old = y_head(X, beta_0)\n",
    "loss_old = np.sum((y - y_head_old)**2)"
   ]
  },
  {
   "cell_type": "code",
   "execution_count": 74,
   "id": "2e3ddd11-4b36-452b-9821-0d46a7c7be34",
   "metadata": {},
   "outputs": [
    {
     "name": "stdout",
     "output_type": "stream",
     "text": [
      "old loss: 0.09500000000000013 and new loss 0.059114999999999945\n"
     ]
    }
   ],
   "source": [
    "print(f'old loss: {loss_old} and new loss {loss_new}')"
   ]
  },
  {
   "cell_type": "code",
   "execution_count": null,
   "id": "856f5e72-9fb2-4cfe-8a6f-732396e0c174",
   "metadata": {},
   "outputs": [],
   "source": []
  }
 ],
 "metadata": {
  "kernelspec": {
   "display_name": "Python 3",
   "language": "python",
   "name": "python3"
  },
  "language_info": {
   "codemirror_mode": {
    "name": "ipython",
    "version": 3
   },
   "file_extension": ".py",
   "mimetype": "text/x-python",
   "name": "python",
   "nbconvert_exporter": "python",
   "pygments_lexer": "ipython3",
   "version": "3.8.8"
  }
 },
 "nbformat": 4,
 "nbformat_minor": 5
}
